{
  "nbformat": 4,
  "nbformat_minor": 0,
  "metadata": {
    "colab": {
      "name": "main_colab.ipynb",
      "provenance": [],
      "collapsed_sections": [],
      "authorship_tag": "ABX9TyNqSp4EvWXVzu2lTc2oMfAr",
      "include_colab_link": true
    },
    "kernelspec": {
      "name": "python3",
      "display_name": "Python 3"
    },
    "accelerator": "GPU"
  },
  "cells": [
    {
      "cell_type": "markdown",
      "metadata": {
        "id": "view-in-github",
        "colab_type": "text"
      },
      "source": [
        "<a href=\"https://colab.research.google.com/github/Futaba-Kosuke/STL10/blob/develop/testing/main_colab.ipynb\" target=\"_parent\"><img src=\"https://colab.research.google.com/assets/colab-badge.svg\" alt=\"Open In Colab\"/></a>"
      ]
    },
    {
      "cell_type": "code",
      "metadata": {
        "id": "_RWQ5AXaDQ9h",
        "colab_type": "code",
        "outputId": "ea7f6381-46df-43a3-dc1d-3a696423c060",
        "colab": {
          "base_uri": "https://localhost:8080/",
          "height": 35
        }
      },
      "source": [
        "from google.colab import drive\n",
        "drive.mount('/content/drive')"
      ],
      "execution_count": 22,
      "outputs": [
        {
          "output_type": "stream",
          "text": [
            "Drive already mounted at /content/drive; to attempt to forcibly remount, call drive.mount(\"/content/drive\", force_remount=True).\n"
          ],
          "name": "stdout"
        }
      ]
    },
    {
      "cell_type": "code",
      "metadata": {
        "id": "CO0fCuAfHgRk",
        "colab_type": "code",
        "colab": {}
      },
      "source": [
        "import torch\n",
        "import torchvision\n",
        "from torchvision import transforms"
      ],
      "execution_count": 0,
      "outputs": []
    },
    {
      "cell_type": "code",
      "metadata": {
        "id": "9xigNAe5Eao4",
        "colab_type": "code",
        "colab": {}
      },
      "source": [
        "# ROOT = './'\n",
        "ROOT = './drive/My Drive/STL10/'"
      ],
      "execution_count": 0,
      "outputs": []
    },
    {
      "cell_type": "code",
      "metadata": {
        "id": "veSy2wIhGeS4",
        "colab_type": "code",
        "outputId": "cb66d191-6162-448b-ca0d-0b70ef401317",
        "colab": {
          "base_uri": "https://localhost:8080/",
          "height": 35
        }
      },
      "source": [
        "# GPUの確認\n",
        "device = torch.device(\"cuda:0\" if torch.cuda.is_available() else \"cpu\")\n",
        "device"
      ],
      "execution_count": 25,
      "outputs": [
        {
          "output_type": "execute_result",
          "data": {
            "text/plain": [
              "device(type='cuda', index=0)"
            ]
          },
          "metadata": {
            "tags": []
          },
          "execution_count": 25
        }
      ]
    },
    {
      "cell_type": "code",
      "metadata": {
        "id": "RdEPZvtbHqzJ",
        "colab_type": "code",
        "colab": {}
      },
      "source": [
        "batch_size = 10"
      ],
      "execution_count": 0,
      "outputs": []
    },
    {
      "cell_type": "code",
      "metadata": {
        "id": "GsPtEglTDd8r",
        "colab_type": "code",
        "outputId": "8744a5e1-d6a5-4e69-baed-d0d441801d04",
        "colab": {
          "base_uri": "https://localhost:8080/",
          "height": 53
        }
      },
      "source": [
        "# データの読み込み\n",
        "transform = transforms.Compose(\n",
        "  [transforms.Resize((300, 300)),\n",
        "   transforms.ToTensor(),\n",
        "   transforms.Normalize((0.5, 0.5, 0.5), (0.5, 0.5, 0.5))]\n",
        ")\n",
        "data_set = torchvision.datasets.ImageFolder(\n",
        "  root=ROOT + 'images',\n",
        "  # root='./images',\n",
        "  transform=transform\n",
        ")\n",
        "print('data_size: ', len(data_set))\n",
        "\n",
        "data_loader = torch.utils.data.DataLoader(\n",
        "  data_set,\n",
        "  batch_size=batch_size,\n",
        "  shuffle=False,\n",
        "  num_workers=1\n",
        ")\n",
        "print('Finish load images')\n",
        "\n",
        "classes = ('airplane', 'bird', 'car', 'cat', 'deer', 'dog', 'horse', 'monkey', 'ship', 'truck')"
      ],
      "execution_count": 27,
      "outputs": [
        {
          "output_type": "stream",
          "text": [
            "data_size:  1000\n",
            "Finish load images\n"
          ],
          "name": "stdout"
        }
      ]
    },
    {
      "cell_type": "code",
      "metadata": {
        "id": "9-5y3uH-D8tb",
        "colab_type": "code",
        "colab": {}
      },
      "source": [
        "# モデルの読み込み\n",
        "# アンサンブル学習を行う為、複数のモデルを読み込む\n",
        "from torch import nn\n",
        "from torchvision import models\n",
        "\n",
        "vgg16 = models.vgg16()\n",
        "densenet = models.densenet161()\n",
        "wide_resnet = models.wide_resnet50_2()"
      ],
      "execution_count": 0,
      "outputs": []
    },
    {
      "cell_type": "code",
      "metadata": {
        "id": "gBqx_eUobJbl",
        "colab_type": "code",
        "colab": {}
      },
      "source": [
        "from torch import nn\n",
        "import torch.nn.functional as F\n",
        "\n",
        "class EnsembleNet(nn.Module):\n",
        "    def __init__(self, net_1=densenet, net_2=vgg16, net_3=wide_resnet, nb_classes=10):\n",
        "        super(EnsembleNet, self).__init__()\n",
        "        self.net_1 = net_1\n",
        "        self.net_2 = net_2\n",
        "        self.net_3 = net_3\n",
        "\n",
        "        # Remove last linear layer\n",
        "        last_in_features_sum = self.net_1.classifier.in_features + self.net_2.classifier[6].in_features + self.net_3.fc.in_features\n",
        "        self.net_1.classifier = nn.Identity()\n",
        "        self.net_2.classifier[6] = nn.Identity()\n",
        "        self.net_3.fc = nn.Identity()\n",
        "        \n",
        "        # Create new classifier\n",
        "        self.classifier = nn.Linear(last_in_features_sum, nb_classes)\n",
        "        \n",
        "    def forward(self, x):\n",
        "        x_1 = self.net_1(x.clone())  # clone to make sure x is not changed by inplace methods\n",
        "        x_1 = x_1.view(x_1.size(0), -1)\n",
        "\n",
        "        x_2 = self.net_2(x.clone())\n",
        "        x_2 = x_2.view(x_2.size(0), -1)\n",
        "        \n",
        "        x_3 = self.net_3(x)\n",
        "        x_3 = x_3.view(x_3.size(0), -1)\n",
        "        \n",
        "        x = torch.cat((x_1, x_2, x_3), dim=1)\n",
        "        \n",
        "        x = self.classifier(F.relu(x))\n",
        "        return x"
      ],
      "execution_count": 0,
      "outputs": []
    },
    {
      "cell_type": "code",
      "metadata": {
        "id": "yZS3hrUjbHi3",
        "colab_type": "code",
        "colab": {
          "base_uri": "https://localhost:8080/",
          "height": 35
        },
        "outputId": "9cfd69f3-d0f9-4fa2-9495-9c9edb7dd712"
      },
      "source": [
        "net = EnsembleNet()\n",
        "net.load_state_dict(torch.load(ROOT + 'models/ensemble.pth', map_location=device))\n",
        "net = net.to(device)\n",
        "\n",
        "print('Finish load models')"
      ],
      "execution_count": 30,
      "outputs": [
        {
          "output_type": "stream",
          "text": [
            "Finish load models\n"
          ],
          "name": "stdout"
        }
      ]
    },
    {
      "cell_type": "code",
      "metadata": {
        "id": "NVtn-a60D-ed",
        "colab_type": "code",
        "outputId": "1091de15-4816-410e-e539-1d7d5c709988",
        "colab": {
          "base_uri": "https://localhost:8080/",
          "height": 233
        }
      },
      "source": [
        "# 検知開始\n",
        "net.eval()\n",
        "\n",
        "class_correct = list(0. for i in range(10))\n",
        "class_total = list(0. for i in range(10))\n",
        "\n",
        "with torch.no_grad():\n",
        "  for (inputs, labels) in data_loader:\n",
        "    inputs = inputs.to(device)\n",
        "    labels = labels.to(device)\n",
        "\n",
        "    outputs = net(inputs)\n",
        "\n",
        "    _, predicted = torch.max(outputs, 1)\n",
        "    is_correct = (predicted == labels).squeeze()\n",
        "\n",
        "    for idx, label in enumerate(labels):\n",
        "      class_correct[label] += is_correct[idx].item()\n",
        "      class_total[label] += 1\n",
        "\n",
        "# 正解率の出力\n",
        "for i in range(10):\n",
        "  print('Accuracy of %5s : %02.01f %%' % (\n",
        "    classes[i], 100 * class_correct[i] / class_total[i]))\n",
        "  \n",
        "print('\\nTop-1 Accuracy: %02.01f %%' % (100 * sum(class_correct) / sum(class_total)))"
      ],
      "execution_count": 32,
      "outputs": [
        {
          "output_type": "stream",
          "text": [
            "Accuracy of airplane : 100.0 %\n",
            "Accuracy of  bird : 100.0 %\n",
            "Accuracy of   car : 100.0 %\n",
            "Accuracy of   cat : 100.0 %\n",
            "Accuracy of  deer : 100.0 %\n",
            "Accuracy of   dog : 100.0 %\n",
            "Accuracy of horse : 100.0 %\n",
            "Accuracy of monkey : 100.0 %\n",
            "Accuracy of  ship : 100.0 %\n",
            "Accuracy of truck : 100.0 %\n",
            "\n",
            "Top-1 Accuracy: 100.0 %\n"
          ],
          "name": "stdout"
        }
      ]
    },
    {
      "cell_type": "code",
      "metadata": {
        "id": "Ah3QRZY7FMrG",
        "colab_type": "code",
        "colab": {}
      },
      "source": [
        ""
      ],
      "execution_count": 0,
      "outputs": []
    }
  ]
}