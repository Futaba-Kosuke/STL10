{
  "nbformat": 4,
  "nbformat_minor": 0,
  "metadata": {
    "colab": {
      "name": "main_colab.ipynb",
      "provenance": [],
      "collapsed_sections": [],
      "authorship_tag": "ABX9TyPt4sDgF37RX1YZGTEX/vhd",
      "include_colab_link": true
    },
    "kernelspec": {
      "name": "python3",
      "display_name": "Python 3"
    },
    "accelerator": "GPU"
  },
  "cells": [
    {
      "cell_type": "markdown",
      "metadata": {
        "id": "view-in-github",
        "colab_type": "text"
      },
      "source": [
        "<a href=\"https://colab.research.google.com/github/Futaba-Kosuke/STL10/blob/develop/testing/main_colab.ipynb\" target=\"_parent\"><img src=\"https://colab.research.google.com/assets/colab-badge.svg\" alt=\"Open In Colab\"/></a>"
      ]
    },
    {
      "cell_type": "code",
      "metadata": {
        "id": "_RWQ5AXaDQ9h",
        "colab_type": "code",
        "outputId": "d42a1e5d-7766-4e2e-cbd8-f794ba61a0ff",
        "colab": {
          "base_uri": "https://localhost:8080/",
          "height": 35
        }
      },
      "source": [
        "from google.colab import drive\n",
        "drive.mount('/content/drive')"
      ],
      "execution_count": 0,
      "outputs": [
        {
          "output_type": "stream",
          "text": [
            "Drive already mounted at /content/drive; to attempt to forcibly remount, call drive.mount(\"/content/drive\", force_remount=True).\n"
          ],
          "name": "stdout"
        }
      ]
    },
    {
      "cell_type": "code",
      "metadata": {
        "id": "CO0fCuAfHgRk",
        "colab_type": "code",
        "colab": {}
      },
      "source": [
        "import torch\n",
        "import torchvision\n",
        "from torchvision import transforms"
      ],
      "execution_count": 0,
      "outputs": []
    },
    {
      "cell_type": "code",
      "metadata": {
        "id": "9xigNAe5Eao4",
        "colab_type": "code",
        "colab": {}
      },
      "source": [
        "ROOT = './'\n",
        "# ROOT = './drive/My Drive/STL10/'"
      ],
      "execution_count": 0,
      "outputs": []
    },
    {
      "cell_type": "code",
      "metadata": {
        "id": "veSy2wIhGeS4",
        "colab_type": "code",
        "outputId": "1448298f-8fff-4124-bf3d-fe027e328e75",
        "colab": {
          "base_uri": "https://localhost:8080/",
          "height": 35
        }
      },
      "source": [
        "# GPUの確認\n",
        "device = torch.device(\"cuda:0\" if torch.cuda.is_available() else \"cpu\")\n",
        "device"
      ],
      "execution_count": 0,
      "outputs": [
        {
          "output_type": "execute_result",
          "data": {
            "text/plain": [
              "device(type='cuda', index=0)"
            ]
          },
          "metadata": {
            "tags": []
          },
          "execution_count": 5
        }
      ]
    },
    {
      "cell_type": "code",
      "metadata": {
        "id": "RdEPZvtbHqzJ",
        "colab_type": "code",
        "colab": {}
      },
      "source": [
        "batch_size = 10"
      ],
      "execution_count": 0,
      "outputs": []
    },
    {
      "cell_type": "code",
      "metadata": {
        "id": "GsPtEglTDd8r",
        "colab_type": "code",
        "outputId": "96125471-b1ca-4d8f-93af-778ccc5b4c70",
        "colab": {
          "base_uri": "https://localhost:8080/",
          "height": 53
        }
      },
      "source": [
        "# データの読み込み\n",
        "transform = transforms.Compose(\n",
        "  [transforms.Resize((300, 300)),\n",
        "   transforms.ToTensor(),\n",
        "   transforms.Normalize((0.5, 0.5, 0.5), (0.5, 0.5, 0.5))]\n",
        ")\n",
        "data_set = torchvision.datasets.ImageFolder(\n",
        "  root=ROOT + 'images',\n",
        "  # root='./images',\n",
        "  transform=transform\n",
        ")\n",
        "print('data_size: ', len(data_set))\n",
        "\n",
        "data_loader = torch.utils.data.DataLoader(\n",
        "  data_set,\n",
        "  batch_size=batch_size,\n",
        "  shuffle=False,\n",
        "  num_workers=1\n",
        ")\n",
        "print('Finish load images')\n",
        "\n",
        "classes = ('airplane', 'bird', 'car', 'cat', 'deer', 'dog', 'horse', 'monkey', 'ship', 'truck')"
      ],
      "execution_count": 0,
      "outputs": [
        {
          "output_type": "stream",
          "text": [
            "data_size:  1000\n",
            "Finish load images\n"
          ],
          "name": "stdout"
        }
      ]
    },
    {
      "cell_type": "code",
      "metadata": {
        "id": "9-5y3uH-D8tb",
        "colab_type": "code",
        "outputId": "09f7b184-7dd4-47e4-c1d1-eab32dcab5a7",
        "colab": {
          "base_uri": "https://localhost:8080/",
          "height": 35
        }
      },
      "source": [
        "# モデルの読み込み\n",
        "# アンサンブル学習を行う為、複数のモデルを読み込む\n",
        "from torch import nn\n",
        "from torchvision import models\n",
        "\n",
        "vgg16 = models.vgg16()\n",
        "last_in_features = vgg16.classifier[6].in_features\n",
        "vgg16.classifier[6] = nn.Linear(last_in_features, 10)\n",
        "vgg16 = vgg16.to(device)\n",
        "state_dict = torch.load(ROOT + 'models/vgg16.pth', map_location=device)\n",
        "vgg16.load_state_dict(state_dict)\n",
        "\n",
        "densenet = models.densenet161()\n",
        "last_in_features = densenet.classifier.in_features\n",
        "densenet.classifier = nn.Linear(last_in_features, 10)\n",
        "densenet = densenet.to(device)\n",
        "state_dict = torch.load(ROOT + 'models/densenet.pth', map_location=device)\n",
        "densenet.load_state_dict(state_dict)\n",
        "\n",
        "wide_resnet = models.wide_resnet50_2()\n",
        "last_in_features = wide_resnet.fc.in_features\n",
        "wide_resnet.fc = nn.Linear(last_in_features, 10)\n",
        "wide_resnet = wide_resnet.to(device)\n",
        "state_dict = torch.load(ROOT + 'models/wide_resnet.pth', map_location=device)\n",
        "wide_resnet.load_state_dict(state_dict)\n",
        "\n",
        "nets = {\n",
        "    'vgg16': vgg16,\n",
        "    'densenet': densenet,\n",
        "    'wide_resnet': wide_resnet\n",
        "}\n",
        "net_names = ('vgg16', 'densenet', 'wide_resnet')\n",
        "\n",
        "print('Finish load models')"
      ],
      "execution_count": 0,
      "outputs": [
        {
          "output_type": "stream",
          "text": [
            "Finish load models\n"
          ],
          "name": "stdout"
        }
      ]
    },
    {
      "cell_type": "code",
      "metadata": {
        "id": "NVtn-a60D-ed",
        "colab_type": "code",
        "outputId": "8e711628-5884-4532-e793-8fb378979729",
        "colab": {
          "base_uri": "https://localhost:8080/",
          "height": 233
        }
      },
      "source": [
        "# 検知開始\n",
        "for net_name in net_names:\n",
        "  nets[net_name].eval()\n",
        "\n",
        "class_correct = list(0. for i in range(10))\n",
        "class_total = list(0. for i in range(10))\n",
        "\n",
        "with torch.no_grad():\n",
        "  for (inputs, labels) in data_loader:\n",
        "    inputs = inputs.to(device)\n",
        "    labels = labels.to(device)\n",
        "\n",
        "    outputs = torch.zeros([batch_size, 10])\n",
        "    outputs = outputs.to(device)\n",
        "    # アンサンブル学習\n",
        "    for net_name in net_names:\n",
        "      outputs += nets[net_name](inputs)\n",
        "\n",
        "    _, predicted = torch.max(outputs, 1)\n",
        "    is_correct = (predicted == labels).squeeze()\n",
        "\n",
        "    for idx, label in enumerate(labels):\n",
        "      class_correct[label] += is_correct[idx].item()\n",
        "      class_total[label] += 1\n",
        "\n",
        "# 正解率の出力\n",
        "for i in range(10):\n",
        "  print('Accuracy of %5s : %02.01f %%' % (\n",
        "    classes[i], 100 * class_correct[i] / class_total[i]))\n",
        "  \n",
        "print('\\nTop-1 Accuracy: %02.01f %%' % (100 * sum(class_correct) / sum(class_total)))"
      ],
      "execution_count": 0,
      "outputs": [
        {
          "output_type": "stream",
          "text": [
            "Accuracy of airplane : 100.0 %\n",
            "Accuracy of  bird : 100.0 %\n",
            "Accuracy of   car : 100.0 %\n",
            "Accuracy of   cat : 100.0 %\n",
            "Accuracy of  deer : 100.0 %\n",
            "Accuracy of   dog : 100.0 %\n",
            "Accuracy of horse : 100.0 %\n",
            "Accuracy of monkey : 100.0 %\n",
            "Accuracy of  ship : 100.0 %\n",
            "Accuracy of truck : 100.0 %\n",
            "\n",
            "Top-1 Accuracy: 100.0 %\n"
          ],
          "name": "stdout"
        }
      ]
    },
    {
      "cell_type": "code",
      "metadata": {
        "id": "Ah3QRZY7FMrG",
        "colab_type": "code",
        "colab": {}
      },
      "source": [
        ""
      ],
      "execution_count": 0,
      "outputs": []
    }
  ]
}