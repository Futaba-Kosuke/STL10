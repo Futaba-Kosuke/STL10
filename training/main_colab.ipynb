{
  "nbformat": 4,
  "nbformat_minor": 0,
  "metadata": {
    "colab": {
      "name": "main_colab.ipynb",
      "provenance": [],
      "collapsed_sections": [],
      "authorship_tag": "ABX9TyN593/MCNmoaYcwcoEhZL0P",
      "include_colab_link": true
    },
    "kernelspec": {
      "name": "python3",
      "display_name": "Python 3"
    },
    "accelerator": "GPU"
  },
  "cells": [
    {
      "cell_type": "markdown",
      "metadata": {
        "id": "view-in-github",
        "colab_type": "text"
      },
      "source": [
        "<a href=\"https://colab.research.google.com/github/Futaba-Kosuke/STL10/blob/feature%2Ftrain/training/main_colab.ipynb\" target=\"_parent\"><img src=\"https://colab.research.google.com/assets/colab-badge.svg\" alt=\"Open In Colab\"/></a>"
      ]
    },
    {
      "cell_type": "code",
      "metadata": {
        "id": "-KRaBgYNVutS",
        "colab_type": "code",
        "colab": {
          "base_uri": "https://localhost:8080/",
          "height": 35
        },
        "outputId": "3ff645df-c7f2-4e92-e4d8-e9e80b3a4ef9"
      },
      "source": [
        "from google.colab import drive\n",
        "drive.mount('/content/drive')"
      ],
      "execution_count": 1,
      "outputs": [
        {
          "output_type": "stream",
          "text": [
            "Drive already mounted at /content/drive; to attempt to forcibly remount, call drive.mount(\"/content/drive\", force_remount=True).\n"
          ],
          "name": "stdout"
        }
      ]
    },
    {
      "cell_type": "code",
      "metadata": {
        "id": "trVgPakJWEdB",
        "colab_type": "code",
        "colab": {
          "base_uri": "https://localhost:8080/",
          "height": 35
        },
        "outputId": "162c7a92-1ea8-40e0-f2f9-65644a1ca883"
      },
      "source": [
        " !ls"
      ],
      "execution_count": 2,
      "outputs": [
        {
          "output_type": "stream",
          "text": [
            "drive  images  sample_data  stl_net.pth\n"
          ],
          "name": "stdout"
        }
      ]
    },
    {
      "cell_type": "code",
      "metadata": {
        "id": "uGHNmQCpfwZT",
        "colab_type": "code",
        "colab": {
          "base_uri": "https://localhost:8080/",
          "height": 107
        },
        "outputId": "bf179bec-57de-40ba-8299-1dfa397d35a8"
      },
      "source": [
        "import torch\n",
        "import torchvision\n",
        "import torchvision.transforms as transforms\n",
        "import numpy as np\n",
        "import matplotlib\n",
        "import matplotlib.pyplot as plt\n",
        "from PIL import Image\n",
        "\n",
        "# バージョン確認 (Google Colab default)\n",
        "print(torch.__version__)  # 1.4.0\n",
        "print(torchvision.__version__)  # 0.5.0\n",
        "print(np.__version__)  # 1.18.2\n",
        "print(matplotlib.__version__)  # 3.2.1\n",
        "print(Image.__version__)  # 7.0.0"
      ],
      "execution_count": 3,
      "outputs": [
        {
          "output_type": "stream",
          "text": [
            "1.4.0\n",
            "0.5.0\n",
            "1.18.2\n",
            "3.2.1\n",
            "7.0.0\n"
          ],
          "name": "stdout"
        }
      ]
    },
    {
      "cell_type": "code",
      "metadata": {
        "id": "B2s-Jtq3XQD1",
        "colab_type": "code",
        "colab": {
          "base_uri": "https://localhost:8080/",
          "height": 35
        },
        "outputId": "e9e46283-8e14-4b8b-bba6-34722a533b6a"
      },
      "source": [
        "device = torch.device(\"cuda:0\" if torch.cuda.is_available() else \"cpu\")\n",
        "device"
      ],
      "execution_count": 4,
      "outputs": [
        {
          "output_type": "execute_result",
          "data": {
            "text/plain": [
              "device(type='cuda', index=0)"
            ]
          },
          "metadata": {
            "tags": []
          },
          "execution_count": 4
        }
      ]
    },
    {
      "cell_type": "code",
      "metadata": {
        "id": "Xyv8j1EsbY2a",
        "colab_type": "code",
        "colab": {}
      },
      "source": [
        "batch_size = 25\n",
        "num_workers = 4"
      ],
      "execution_count": 0,
      "outputs": []
    },
    {
      "cell_type": "code",
      "metadata": {
        "id": "yjHJA6g3_oS5",
        "colab_type": "code",
        "colab": {
          "base_uri": "https://localhost:8080/",
          "height": 71
        },
        "outputId": "ad39383b-0a53-4c13-c965-0411b719fa38"
      },
      "source": [
        "# データの読み込み\n",
        "transform = {\n",
        "  'train': transforms.Compose(\n",
        "    [transforms.RandomHorizontalFlip(),\n",
        "     transforms.ToTensor(),\n",
        "     transforms.Normalize((0.5, 0.5, 0.5), (0.5, 0.5, 0.5))]\n",
        "  ),\n",
        "  'test': transforms.Compose(\n",
        "    [transforms.ToTensor(),\n",
        "     transforms.Normalize((0.5, 0.5, 0.5), (0.5, 0.5, 0.5))]\n",
        "  )\n",
        "}\n",
        "data_set = {\n",
        "  x: torchvision.datasets.STL10(root='./images', split=x, download=True, transform=transform[x])\n",
        "  for x in ('train', 'test')\n",
        "}\n",
        "data_size = {\n",
        "  x: len(data_set[x]) for x in ('train', 'test')\n",
        "}\n",
        "print(data_size)\n",
        "\n",
        "data_loaders = {\n",
        "  x[0]: torch.utils.data.DataLoader(data_set[x[0]], batch_size=x[1], shuffle=x[2], num_workers=num_workers)\n",
        "  for x in (('train', batch_size, True), ('test', 100, False))\n",
        "}"
      ],
      "execution_count": 6,
      "outputs": [
        {
          "output_type": "stream",
          "text": [
            "Files already downloaded and verified\n",
            "Files already downloaded and verified\n",
            "{'train': 5000, 'test': 8000}\n"
          ],
          "name": "stdout"
        }
      ]
    },
    {
      "cell_type": "code",
      "metadata": {
        "id": "OLid3_CJ_t20",
        "colab_type": "code",
        "colab": {}
      },
      "source": [
        "classes = ('airplane', 'bird', 'car', 'cat', 'deer', 'dog', 'horse', 'monkey', 'ship', 'truck')"
      ],
      "execution_count": 0,
      "outputs": []
    },
    {
      "cell_type": "code",
      "metadata": {
        "id": "H1GPSyQ2_y4i",
        "colab_type": "code",
        "colab": {
          "base_uri": "https://localhost:8080/",
          "height": 827
        },
        "outputId": "f5b2283f-1105-4038-f550-32e764f211e0"
      },
      "source": [
        "# モデル構築\n",
        "from torchvision import models\n",
        "from torch import nn\n",
        "\n",
        "net = models.vgg16(pretrained=True)\n",
        "last_in_features = net.classifier[6].in_features\n",
        "net.classifier[6] = nn.Linear(last_in_features, 10)  # 最終層を10クラスに変更\n",
        "net = net.to(device)\n",
        "net"
      ],
      "execution_count": 8,
      "outputs": [
        {
          "output_type": "execute_result",
          "data": {
            "text/plain": [
              "VGG(\n",
              "  (features): Sequential(\n",
              "    (0): Conv2d(3, 64, kernel_size=(3, 3), stride=(1, 1), padding=(1, 1))\n",
              "    (1): ReLU(inplace=True)\n",
              "    (2): Conv2d(64, 64, kernel_size=(3, 3), stride=(1, 1), padding=(1, 1))\n",
              "    (3): ReLU(inplace=True)\n",
              "    (4): MaxPool2d(kernel_size=2, stride=2, padding=0, dilation=1, ceil_mode=False)\n",
              "    (5): Conv2d(64, 128, kernel_size=(3, 3), stride=(1, 1), padding=(1, 1))\n",
              "    (6): ReLU(inplace=True)\n",
              "    (7): Conv2d(128, 128, kernel_size=(3, 3), stride=(1, 1), padding=(1, 1))\n",
              "    (8): ReLU(inplace=True)\n",
              "    (9): MaxPool2d(kernel_size=2, stride=2, padding=0, dilation=1, ceil_mode=False)\n",
              "    (10): Conv2d(128, 256, kernel_size=(3, 3), stride=(1, 1), padding=(1, 1))\n",
              "    (11): ReLU(inplace=True)\n",
              "    (12): Conv2d(256, 256, kernel_size=(3, 3), stride=(1, 1), padding=(1, 1))\n",
              "    (13): ReLU(inplace=True)\n",
              "    (14): Conv2d(256, 256, kernel_size=(3, 3), stride=(1, 1), padding=(1, 1))\n",
              "    (15): ReLU(inplace=True)\n",
              "    (16): MaxPool2d(kernel_size=2, stride=2, padding=0, dilation=1, ceil_mode=False)\n",
              "    (17): Conv2d(256, 512, kernel_size=(3, 3), stride=(1, 1), padding=(1, 1))\n",
              "    (18): ReLU(inplace=True)\n",
              "    (19): Conv2d(512, 512, kernel_size=(3, 3), stride=(1, 1), padding=(1, 1))\n",
              "    (20): ReLU(inplace=True)\n",
              "    (21): Conv2d(512, 512, kernel_size=(3, 3), stride=(1, 1), padding=(1, 1))\n",
              "    (22): ReLU(inplace=True)\n",
              "    (23): MaxPool2d(kernel_size=2, stride=2, padding=0, dilation=1, ceil_mode=False)\n",
              "    (24): Conv2d(512, 512, kernel_size=(3, 3), stride=(1, 1), padding=(1, 1))\n",
              "    (25): ReLU(inplace=True)\n",
              "    (26): Conv2d(512, 512, kernel_size=(3, 3), stride=(1, 1), padding=(1, 1))\n",
              "    (27): ReLU(inplace=True)\n",
              "    (28): Conv2d(512, 512, kernel_size=(3, 3), stride=(1, 1), padding=(1, 1))\n",
              "    (29): ReLU(inplace=True)\n",
              "    (30): MaxPool2d(kernel_size=2, stride=2, padding=0, dilation=1, ceil_mode=False)\n",
              "  )\n",
              "  (avgpool): AdaptiveAvgPool2d(output_size=(7, 7))\n",
              "  (classifier): Sequential(\n",
              "    (0): Linear(in_features=25088, out_features=4096, bias=True)\n",
              "    (1): ReLU(inplace=True)\n",
              "    (2): Dropout(p=0.5, inplace=False)\n",
              "    (3): Linear(in_features=4096, out_features=4096, bias=True)\n",
              "    (4): ReLU(inplace=True)\n",
              "    (5): Dropout(p=0.5, inplace=False)\n",
              "    (6): Linear(in_features=4096, out_features=10, bias=True)\n",
              "  )\n",
              ")"
            ]
          },
          "metadata": {
            "tags": []
          },
          "execution_count": 8
        }
      ]
    },
    {
      "cell_type": "code",
      "metadata": {
        "id": "CksYNuzb_3zj",
        "colab_type": "code",
        "colab": {}
      },
      "source": [
        "# 損失・最適関数の定義\n",
        "from torch import optim\n",
        "criterion = nn.CrossEntropyLoss()\n",
        "optimizer = optim.SGD(net.parameters(), lr=0.001, momentum=0.9)\n",
        "scheduler = optim.lr_scheduler.StepLR(optimizer, step_size=7, gamma=0.1)  # 10エポックごとに学習率が1/10に更新"
      ],
      "execution_count": 0,
      "outputs": []
    },
    {
      "cell_type": "code",
      "metadata": {
        "id": "NXlZxAgn_-Xf",
        "colab_type": "code",
        "colab": {}
      },
      "source": [
        "# 学習用関数\n",
        "def train_net(net, criterion, optimizer, scheduler, num_epochs):\n",
        "  for epoch in range(num_epochs):\n",
        "    print('Epoch %d/%d' % (epoch, num_epochs - 1))\n",
        "    print('-' * 10)\n",
        "\n",
        "    running_loss_sum = 0\n",
        "    train_loss_sum = 0\n",
        "    test_loss_sum = 0\n",
        "\n",
        "    # モデルの更新\n",
        "    net.train()\n",
        "    for i, (inputs, labels) in enumerate(data_loaders['train']):\n",
        "      inputs = inputs.to(device)\n",
        "      labels = labels.to(device)\n",
        "      # 勾配の初期化\n",
        "      optimizer.zero_grad()\n",
        "      # 予測\n",
        "      outputs = net(inputs)\n",
        "      # 損失の導出\n",
        "      loss = criterion(outputs, labels)\n",
        "      # 逆伝播\n",
        "      loss.backward()\n",
        "      # 勾配の更新\n",
        "      optimizer.step()\n",
        "\n",
        "      running_loss_sum += loss.item()\n",
        "      train_loss_sum += loss.item()\n",
        "      if i % 50 == 49:\n",
        "        print('[%d] running_loss: %.3f' % (i + 1, running_loss_sum / 50))\n",
        "        running_loss_sum = 0\n",
        "\n",
        "    # モデルの評価\n",
        "    net.eval()\n",
        "    cnt_correct = 0\n",
        "    for i, (inputs, labels) in enumerate(data_loaders['test']):\n",
        "      inputs = inputs.to(device)\n",
        "      labels = labels.to(device)\n",
        "\n",
        "      # 予測\n",
        "      outputs = net(inputs)\n",
        "      # 損失の導出\n",
        "      loss = criterion(outputs, labels)\n",
        "      # lossの加算\n",
        "      test_loss_sum += loss.item()\n",
        "\n",
        "      _, predicted = torch.max(outputs, 1)\n",
        "      is_correct = (predicted == labels).squeeze()\n",
        "      \n",
        "      for i in range(len(is_correct)):\n",
        "        cnt_correct += is_correct[i].item()  # 正解なら1, 不正解なら0\n",
        "\n",
        "    print('')\n",
        "    print('train_loss_ave:\\t%.3f' % (batch_size * train_loss_sum / data_size['train']))\n",
        "    print('test_loss_ave:\\t%.3f' % (100 * test_loss_sum / data_size['test']))\n",
        "    print('test_accuracy: \\t%.3f %%' % (100 * cnt_correct / data_size['test']))\n",
        "\n",
        "    net.train()\n",
        "    scheduler.step()"
      ],
      "execution_count": 0,
      "outputs": []
    },
    {
      "cell_type": "code",
      "metadata": {
        "id": "nyFeUot5AE-z",
        "colab_type": "code",
        "colab": {
          "base_uri": "https://localhost:8080/",
          "height": 1000
        },
        "outputId": "aabb75af-4987-4827-d511-bfdc16fdd338"
      },
      "source": [
        "num_epochs=15\n",
        "train_net(net, criterion, optimizer, scheduler, num_epochs)"
      ],
      "execution_count": 11,
      "outputs": [
        {
          "output_type": "stream",
          "text": [
            "Epoch 0/14\n",
            "----------\n",
            "[50] running_loss: 0.856\n",
            "[100] running_loss: 0.473\n",
            "[150] running_loss: 0.424\n",
            "[200] running_loss: 0.344\n",
            "\n",
            "train_loss_ave:\t0.524\n",
            "test_loss_ave:\t0.357\n",
            "test_accuracy: \t87.912 %\n",
            "Epoch 1/14\n",
            "----------\n",
            "[50] running_loss: 0.221\n",
            "[100] running_loss: 0.228\n",
            "[150] running_loss: 0.228\n",
            "[200] running_loss: 0.232\n",
            "\n",
            "train_loss_ave:\t0.227\n",
            "test_loss_ave:\t0.250\n",
            "test_accuracy: \t91.862 %\n",
            "Epoch 2/14\n",
            "----------\n",
            "[50] running_loss: 0.129\n",
            "[100] running_loss: 0.127\n",
            "[150] running_loss: 0.174\n",
            "[200] running_loss: 0.115\n",
            "\n",
            "train_loss_ave:\t0.136\n",
            "test_loss_ave:\t0.236\n",
            "test_accuracy: \t92.912 %\n",
            "Epoch 3/14\n",
            "----------\n",
            "[50] running_loss: 0.114\n",
            "[100] running_loss: 0.112\n",
            "[150] running_loss: 0.096\n",
            "[200] running_loss: 0.107\n",
            "\n",
            "train_loss_ave:\t0.107\n",
            "test_loss_ave:\t0.218\n",
            "test_accuracy: \t92.888 %\n",
            "Epoch 4/14\n",
            "----------\n",
            "[50] running_loss: 0.062\n",
            "[100] running_loss: 0.054\n",
            "[150] running_loss: 0.064\n",
            "[200] running_loss: 0.065\n",
            "\n",
            "train_loss_ave:\t0.061\n",
            "test_loss_ave:\t0.275\n",
            "test_accuracy: \t92.188 %\n",
            "Epoch 5/14\n",
            "----------\n",
            "[50] running_loss: 0.046\n",
            "[100] running_loss: 0.054\n",
            "[150] running_loss: 0.055\n",
            "[200] running_loss: 0.081\n",
            "\n",
            "train_loss_ave:\t0.059\n",
            "test_loss_ave:\t0.240\n",
            "test_accuracy: \t93.013 %\n",
            "Epoch 6/14\n",
            "----------\n",
            "[50] running_loss: 0.030\n",
            "[100] running_loss: 0.043\n",
            "[150] running_loss: 0.059\n",
            "[200] running_loss: 0.038\n",
            "\n",
            "train_loss_ave:\t0.043\n",
            "test_loss_ave:\t0.232\n",
            "test_accuracy: \t93.513 %\n",
            "Epoch 7/14\n",
            "----------\n",
            "[50] running_loss: 0.015\n",
            "[100] running_loss: 0.008\n",
            "[150] running_loss: 0.011\n",
            "[200] running_loss: 0.020\n",
            "\n",
            "train_loss_ave:\t0.014\n",
            "test_loss_ave:\t0.226\n",
            "test_accuracy: \t93.963 %\n",
            "Epoch 8/14\n",
            "----------\n",
            "[50] running_loss: 0.006\n",
            "[100] running_loss: 0.007\n",
            "[150] running_loss: 0.006\n",
            "[200] running_loss: 0.010\n",
            "\n",
            "train_loss_ave:\t0.007\n",
            "test_loss_ave:\t0.225\n",
            "test_accuracy: \t93.912 %\n",
            "Epoch 9/14\n",
            "----------\n",
            "[50] running_loss: 0.014\n",
            "[100] running_loss: 0.007\n",
            "[150] running_loss: 0.009\n",
            "[200] running_loss: 0.004\n",
            "\n",
            "train_loss_ave:\t0.008\n",
            "test_loss_ave:\t0.228\n",
            "test_accuracy: \t93.925 %\n",
            "Epoch 10/14\n",
            "----------\n",
            "[50] running_loss: 0.006\n",
            "[100] running_loss: 0.005\n",
            "[150] running_loss: 0.005\n",
            "[200] running_loss: 0.009\n",
            "\n",
            "train_loss_ave:\t0.006\n",
            "test_loss_ave:\t0.231\n",
            "test_accuracy: \t93.900 %\n",
            "Epoch 11/14\n",
            "----------\n",
            "[50] running_loss: 0.004\n",
            "[100] running_loss: 0.005\n",
            "[150] running_loss: 0.005\n",
            "[200] running_loss: 0.007\n",
            "\n",
            "train_loss_ave:\t0.005\n",
            "test_loss_ave:\t0.230\n",
            "test_accuracy: \t94.213 %\n",
            "Epoch 12/14\n",
            "----------\n",
            "[50] running_loss: 0.002\n",
            "[100] running_loss: 0.005\n",
            "[150] running_loss: 0.006\n",
            "[200] running_loss: 0.005\n",
            "\n",
            "train_loss_ave:\t0.004\n",
            "test_loss_ave:\t0.231\n",
            "test_accuracy: \t94.175 %\n",
            "Epoch 13/14\n",
            "----------\n",
            "[50] running_loss: 0.002\n",
            "[100] running_loss: 0.005\n",
            "[150] running_loss: 0.004\n",
            "[200] running_loss: 0.003\n",
            "\n",
            "train_loss_ave:\t0.003\n",
            "test_loss_ave:\t0.232\n",
            "test_accuracy: \t94.150 %\n",
            "Epoch 14/14\n",
            "----------\n",
            "[50] running_loss: 0.003\n",
            "[100] running_loss: 0.003\n",
            "[150] running_loss: 0.004\n",
            "[200] running_loss: 0.004\n",
            "\n",
            "train_loss_ave:\t0.004\n",
            "test_loss_ave:\t0.233\n",
            "test_accuracy: \t94.138 %\n"
          ],
          "name": "stdout"
        }
      ]
    },
    {
      "cell_type": "code",
      "metadata": {
        "id": "nvps315ZAG6h",
        "colab_type": "code",
        "colab": {}
      },
      "source": [
        "# 保存\n",
        "PATH = './drive/My Drive/stl_net.pth'\n",
        "torch.save(net.state_dict(), PATH)"
      ],
      "execution_count": 0,
      "outputs": []
    },
    {
      "cell_type": "code",
      "metadata": {
        "id": "sLqpjZPqYY-o",
        "colab_type": "code",
        "colab": {
          "base_uri": "https://localhost:8080/",
          "height": 197
        },
        "outputId": "f4a9e36f-5121-423a-80e2-b0a4ee66a381"
      },
      "source": [
        "net.eval()\n",
        "\n",
        "class_correct = list(0. for i in range(10))\n",
        "class_total = list(0. for i in range(10))\n",
        "\n",
        "with torch.no_grad():\n",
        "  for (inputs, labels) in data_loaders['test']:\n",
        "    inputs = inputs.to(device)\n",
        "    labels = labels.to(device)\n",
        "\n",
        "    outputs = net(inputs)\n",
        "    \n",
        "    _, predicted = torch.max(outputs, 1)\n",
        "    is_correct = (predicted == labels).squeeze()\n",
        "\n",
        "    for i in range(len(is_correct)):\n",
        "      label = labels[i]\n",
        "      class_correct[label] += is_correct[i].item()  # 正解なら1, 不正解なら0\n",
        "      class_total[label] += 1\n",
        "\n",
        "for i in range(10):\n",
        "  print('Accuracy of %5s : %2d %%' % (\n",
        "    classes[i], 100 * class_correct[i] / class_total[i]))"
      ],
      "execution_count": 13,
      "outputs": [
        {
          "output_type": "stream",
          "text": [
            "Accuracy of airplane : 96 %\n",
            "Accuracy of  bird : 95 %\n",
            "Accuracy of   car : 95 %\n",
            "Accuracy of   cat : 88 %\n",
            "Accuracy of  deer : 93 %\n",
            "Accuracy of   dog : 89 %\n",
            "Accuracy of horse : 94 %\n",
            "Accuracy of monkey : 95 %\n",
            "Accuracy of  ship : 98 %\n",
            "Accuracy of truck : 94 %\n"
          ],
          "name": "stdout"
        }
      ]
    },
    {
      "cell_type": "code",
      "metadata": {
        "id": "Ursz_pLQmczS",
        "colab_type": "code",
        "colab": {
          "base_uri": "https://localhost:8080/",
          "height": 197
        },
        "outputId": "2cc6ba15-74a3-4d38-e160-af3bfc439f67"
      },
      "source": [
        "net.eval()\n",
        "\n",
        "class_correct = list(0. for i in range(10))\n",
        "class_total = list(0. for i in range(10))\n",
        "\n",
        "with torch.no_grad():\n",
        "  for (inputs, labels) in data_loaders['train']:\n",
        "    inputs = inputs.to(device)\n",
        "    labels = labels.to(device)\n",
        "\n",
        "    outputs = net(inputs)\n",
        "    \n",
        "    _, predicted = torch.max(outputs, 1)\n",
        "    is_correct = (predicted == labels).squeeze()\n",
        "\n",
        "    for i in range(len(is_correct)):\n",
        "      label = labels[i]\n",
        "      class_correct[label] += is_correct[i].item()  # 正解なら1, 不正解なら0\n",
        "      class_total[label] += 1\n",
        "\n",
        "for i in range(10):\n",
        "  print('Accuracy of %5s : %2d %%' % (\n",
        "    classes[i], 100 * class_correct[i] / class_total[i]))"
      ],
      "execution_count": 14,
      "outputs": [
        {
          "output_type": "stream",
          "text": [
            "Accuracy of airplane : 100 %\n",
            "Accuracy of  bird : 100 %\n",
            "Accuracy of   car : 100 %\n",
            "Accuracy of   cat : 100 %\n",
            "Accuracy of  deer : 100 %\n",
            "Accuracy of   dog : 100 %\n",
            "Accuracy of horse : 100 %\n",
            "Accuracy of monkey : 100 %\n",
            "Accuracy of  ship : 100 %\n",
            "Accuracy of truck : 100 %\n"
          ],
          "name": "stdout"
        }
      ]
    },
    {
      "cell_type": "code",
      "metadata": {
        "id": "jyOWJngWxfFl",
        "colab_type": "code",
        "colab": {}
      },
      "source": [
        ""
      ],
      "execution_count": 0,
      "outputs": []
    }
  ]
}